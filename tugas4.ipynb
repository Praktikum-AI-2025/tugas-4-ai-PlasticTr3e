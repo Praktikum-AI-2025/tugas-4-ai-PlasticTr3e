{
  "cells": [
    {
      "cell_type": "markdown",
      "id": "0Ts1lmZrx27G",
      "metadata": {
        "id": "0Ts1lmZrx27G"
      },
      "source": [
        "# Horse or Human Classification\n",
        "\n",
        "Model klasifikasi gambar untuk membedakan antara kuda dan manusia menggunakan TensorFlow dan CNN."
      ]
    },
    {
      "cell_type": "code",
      "execution_count": 3,
      "id": "Rs-kXhxvx27H",
      "metadata": {
        "id": "Rs-kXhxvx27H"
      },
      "outputs": [
        {
          "ename": "ModuleNotFoundError",
          "evalue": "No module named 'tensorflow'",
          "output_type": "error",
          "traceback": [
            "\u001b[1;31m---------------------------------------------------------------------------\u001b[0m",
            "\u001b[1;31mModuleNotFoundError\u001b[0m                       Traceback (most recent call last)",
            "Cell \u001b[1;32mIn[3], line 3\u001b[0m\n\u001b[0;32m      1\u001b[0m \u001b[38;5;28;01mimport\u001b[39;00m\u001b[38;5;250m \u001b[39m\u001b[38;5;21;01murllib\u001b[39;00m\u001b[38;5;21;01m.\u001b[39;00m\u001b[38;5;21;01mrequest\u001b[39;00m\n\u001b[0;32m      2\u001b[0m \u001b[38;5;28;01mimport\u001b[39;00m\u001b[38;5;250m \u001b[39m\u001b[38;5;21;01mzipfile\u001b[39;00m\n\u001b[1;32m----> 3\u001b[0m \u001b[38;5;28;01mimport\u001b[39;00m\u001b[38;5;250m \u001b[39m\u001b[38;5;21;01mtensorflow\u001b[39;00m\u001b[38;5;250m \u001b[39m\u001b[38;5;28;01mas\u001b[39;00m\u001b[38;5;250m \u001b[39m\u001b[38;5;21;01mtf\u001b[39;00m\n\u001b[0;32m      4\u001b[0m \u001b[38;5;28;01mimport\u001b[39;00m\u001b[38;5;250m \u001b[39m\u001b[38;5;21;01mos\u001b[39;00m\n\u001b[0;32m      5\u001b[0m \u001b[38;5;28;01mfrom\u001b[39;00m\u001b[38;5;250m \u001b[39m\u001b[38;5;21;01mkeras_preprocessing\u001b[39;00m\u001b[38;5;21;01m.\u001b[39;00m\u001b[38;5;21;01mimage\u001b[39;00m\u001b[38;5;250m \u001b[39m\u001b[38;5;28;01mimport\u001b[39;00m ImageDataGenerator\n",
            "\u001b[1;31mModuleNotFoundError\u001b[0m: No module named 'tensorflow'"
          ]
        }
      ],
      "source": [
        "import urllib.request\n",
        "import zipfile\n",
        "import tensorflow as tf\n",
        "import os\n",
        "from keras_preprocessing.image import ImageDataGenerator\n",
        "from tensorflow.keras.optimizers import RMSprop\n",
        "from tensorflow.keras.callbacks import EarlyStopping"
      ]
    },
    {
      "cell_type": "markdown",
      "id": "OWLFeCXcx27I",
      "metadata": {
        "id": "OWLFeCXcx27I"
      },
      "source": [
        "## Unduh dan Ekstrak Dataset"
      ]
    },
    {
      "cell_type": "code",
      "execution_count": null,
      "id": "4gzOWnu6x27I",
      "metadata": {
        "id": "4gzOWnu6x27I"
      },
      "outputs": [],
      "source": [
        "def solution_05():\n",
        "    # Download training dataset\n",
        "    train_url = 'https://github.com/dicodingacademy/assets/releases/download/release-horse-or-human/horse-or-human.zip'\n",
        "    urllib.request.urlretrieve(train_url, 'horse-or-human.zip')\n",
        "\n",
        "    with zipfile.ZipFile('horse-or-human.zip', 'r') as zip_ref:\n",
        "        zip_ref.extractall('data/horse-or-human')\n",
        "\n",
        "    # Download validation dataset\n",
        "    val_url = 'https://github.com/dicodingacademy/assets/raw/main/Simulation/machine_learning/validation-horse-or-human.zip'\n",
        "    urllib.request.urlretrieve(val_url, 'validation-horse-or-human.zip')\n",
        "\n",
        "    with zipfile.ZipFile('validation-horse-or-human.zip', 'r') as zip_ref:\n",
        "        zip_ref.extractall('data/validation-horse-or-human')\n",
        "    \n",
        "    TRAINING_DIR = 'data/horse-or-human'\n",
        "    VALIDATION_DIR = 'data/validation-horse-or-human'\n",
        "\n",
        "    train_datagen = ImageDataGenerator(\n",
        "        rescale=1./255,\n",
        "        rotation_range=40,\n",
        "        shear_range=0.2,\n",
        "        zoom_range=0.2,\n",
        "        horizontal_flip=True,\n",
        "        fill_mode='nearest'\n",
        "    )\n",
        "\n",
        "    validation_datagen = ImageDataGenerator(rescale=1./255)\n",
        "\n",
        "    train_generator = train_datagen.flow_from_directory(\n",
        "        TRAINING_DIR,\n",
        "        target_size=(150, 150),\n",
        "        batch_size=32,\n",
        "        class_mode='binary'\n",
        "    )\n",
        "\n",
        "    validation_generator = validation_datagen.flow_from_directory(\n",
        "        VALIDATION_DIR,\n",
        "        target_size=(150, 150),\n",
        "        batch_size=32,\n",
        "        class_mode='binary'\n",
        "    )\n",
        "\n",
        "    model = tf.keras.models.Sequential([\n",
        "        tf.keras.layers.Conv2D(16, (3, 3), activation='relu', input_shape=(150, 150, 3)),\n",
        "        tf.keras.layers.MaxPooling2D(2, 2),\n",
        "        tf.keras.layers.Conv2D(32, (3, 3), activation='relu'),\n",
        "        tf.keras.layers.MaxPooling2D(2, 2),\n",
        "        tf.keras.layers.Conv2D(64, (3, 3), activation='relu'),\n",
        "        tf.keras.layers.MaxPooling2D(2, 2),\n",
        "        tf.keras.layers.Flatten(),\n",
        "        tf.keras.layers.Dense(512, activation='relu'),\n",
        "        tf.keras.layers.Dense(1, activation='sigmoid')  # DO NOT CHANGE THIS LINE!\n",
        "    ])\n",
        "\n",
        "    model.compile(loss='binary_crossentropy',\n",
        "                optimizer=RMSprop(learning_rate=0.001),\n",
        "                metrics=['accuracy'])\n",
        "\n",
        "    model.summary()\n",
        "\n",
        "    class StopTrainingCallback(tf.keras.callbacks.Callback):\n",
        "        def on_epoch_end(self, epoch, logs=None):\n",
        "            acc = logs.get('accuracy')\n",
        "            val_acc = logs.get('val_accuracy')\n",
        "            if acc and val_acc and acc > 0.83 and val_acc > 0.83:\n",
        "                print(f\"\\nStopping training: accuracy={acc*100:.2f}%, val_accuracy={val_acc*100:.2f}% > 83%\")\n",
        "                self.model.stop_training = True\n",
        "\n",
        "    early_stop = EarlyStopping(monitor='val_accuracy', patience=5, restore_best_weights=True)\n",
        "    stop_callback = StopTrainingCallback()\n",
        "\n",
        "    history = model.fit(\n",
        "        train_generator,\n",
        "        epochs=20,\n",
        "        validation_data=validation_generator,\n",
        "        callbacks=[early_stop, stop_callback],\n",
        "        verbose=1\n",
        "    )\n",
        "\n",
        "    train_acc = history.history['accuracy'][-1]\n",
        "    val_acc = history.history['val_accuracy'][-1]\n",
        "\n",
        "    print(f\"Training Accuracy: {train_acc*100:.2f}%\")\n",
        "    print(f\"Validation Accuracy: {val_acc*100:.2f}%\")"
      ]
    },
    {
      "cell_type": "markdown",
      "id": "1fL-IjOlx27J",
      "metadata": {
        "id": "1fL-IjOlx27J"
      },
      "source": [
        "## Melatih Model"
      ]
    },
    {
      "cell_type": "code",
      "execution_count": null,
      "id": "AS_C_jX7x27K",
      "metadata": {
        "colab": {
          "base_uri": "https://localhost:8080/"
        },
        "id": "AS_C_jX7x27K",
        "outputId": "a63a2d8e-0e7b-413a-a1d1-7ca63a8ec789"
      },
      "outputs": [
        {
          "name": "stderr",
          "output_type": "stream",
          "text": [
            "/usr/local/lib/python3.11/dist-packages/keras/src/trainers/data_adapters/py_dataset_adapter.py:121: UserWarning: Your `PyDataset` class should call `super().__init__(**kwargs)` in its constructor. `**kwargs` can include `workers`, `use_multiprocessing`, `max_queue_size`. Do not pass these arguments to `fit()`, as they will be ignored.\n",
            "  self._warn_if_super_not_called()\n"
          ]
        },
        {
          "name": "stdout",
          "output_type": "stream",
          "text": [
            "Epoch 1/20\n",
            "\u001b[1m33/33\u001b[0m \u001b[32m━━━━━━━━━━━━━━━━━━━━\u001b[0m\u001b[37m\u001b[0m \u001b[1m38s\u001b[0m 1s/step - accuracy: 0.5056 - loss: 2.5076 - val_accuracy: 0.8594 - val_loss: 0.5091\n",
            "Epoch 2/20\n",
            "\u001b[1m33/33\u001b[0m \u001b[32m━━━━━━━━━━━━━━━━━━━━\u001b[0m\u001b[37m\u001b[0m \u001b[1m34s\u001b[0m 1s/step - accuracy: 0.7255 - loss: 0.5302 - val_accuracy: 0.7539 - val_loss: 0.9447\n",
            "Epoch 3/20\n",
            "\u001b[1m33/33\u001b[0m \u001b[32m━━━━━━━━━━━━━━━━━━━━\u001b[0m\u001b[37m\u001b[0m \u001b[1m33s\u001b[0m 993ms/step - accuracy: 0.8189 - loss: 0.4019 - val_accuracy: 0.6211 - val_loss: 1.8142\n",
            "Epoch 4/20\n",
            "\u001b[1m33/33\u001b[0m \u001b[32m━━━━━━━━━━━━━━━━━━━━\u001b[0m\u001b[37m\u001b[0m \u001b[1m0s\u001b[0m 948ms/step - accuracy: 0.8760 - loss: 0.2743\n",
            "Stopping training: accuracy=88.41%, val_accuracy=84.77% > 83%\n",
            "\u001b[1m33/33\u001b[0m \u001b[32m━━━━━━━━━━━━━━━━━━━━\u001b[0m\u001b[37m\u001b[0m \u001b[1m34s\u001b[0m 1s/step - accuracy: 0.8762 - loss: 0.2743 - val_accuracy: 0.8477 - val_loss: 0.3841\n",
            "Training Accuracy: 88.41%\n",
            "Validation Accuracy: 84.77%\n"
          ]
        }
      ],
      "source": [
        "  "
      ]
    },
    {
      "cell_type": "markdown",
      "id": "1Jymm7zBx27K",
      "metadata": {
        "id": "1Jymm7zBx27K"
      },
      "source": [
        "## Menyimpan Model"
      ]
    },
    {
      "cell_type": "code",
      "execution_count": null,
      "id": "xjEJLjzLx27K",
      "metadata": {
        "colab": {
          "base_uri": "https://localhost:8080/"
        },
        "id": "xjEJLjzLx27K",
        "outputId": "49d1d176-e7de-4cde-fd16-b67801a9a8b2"
      },
      "outputs": [
        {
          "name": "stderr",
          "output_type": "stream",
          "text": [
            "WARNING:absl:You are saving your model as an HDF5 file via `model.save()` or `keras.saving.save_model(model)`. This file format is considered legacy. We recommend using instead the native Keras format, e.g. `model.save('my_model.keras')` or `keras.saving.save_model(model, 'my_model.keras')`. \n"
          ]
        }
      ],
      "source": [
        "if __name__ == '__main__':\n",
        "    # DO NOT CHANGE THIS CODE\n",
        "    model=solution_05()\n",
        "    model.save(\"model_05.h5\")"
      ]
    }
  ],
  "metadata": {
    "colab": {
      "provenance": []
    },
    "kernelspec": {
      "display_name": "Python 3",
      "language": "python",
      "name": "python3"
    },
    "language_info": {
      "codemirror_mode": {
        "name": "ipython",
        "version": 3
      },
      "file_extension": ".py",
      "mimetype": "text/x-python",
      "name": "python",
      "nbconvert_exporter": "python",
      "pygments_lexer": "ipython3",
      "version": "3.10.0"
    }
  },
  "nbformat": 4,
  "nbformat_minor": 5
}
